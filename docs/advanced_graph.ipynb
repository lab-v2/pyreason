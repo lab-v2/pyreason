{
 "cells": [
  {
   "cell_type": "code",
   "execution_count": 1,
   "id": "262e6f13c9d84198",
   "metadata": {
    "ExecuteTime": {
     "end_time": "2024-03-06T16:55:01.204690Z",
     "start_time": "2024-03-06T16:54:59.111005Z"
    },
    "collapsed": false
   },
   "outputs": [
    {
     "name": "stdout",
     "output_type": "stream",
     "text": [
      "Imported PyReason for the first time. Initializing caches for faster runtimes ... this will take a minute\n",
      "PyReason initialized!\n",
      "\n"
     ]
    }
   ],
   "source": [
    "from pprint import pprint\n",
    "import networkx as nx\n",
    "import pyreason as pr"
   ]
  },
  {
   "cell_type": "markdown",
   "id": "1a5145b4d65f6368",
   "metadata": {
    "collapsed": false
   },
   "source": [
    "## Customers\n"
   ]
  },
  {
   "cell_type": "code",
   "execution_count": 2,
   "id": "665d462215b1aace",
   "metadata": {
    "ExecuteTime": {
     "end_time": "2024-03-06T16:55:01.211610Z",
     "start_time": "2024-03-06T16:55:01.205564Z"
    },
    "collapsed": false
   },
   "outputs": [
    {
     "data": {
      "text/plain": [
       "{0: ('John', 'M', 'New York', 'NY'),\n",
       " 1: ('Mary', 'F', 'Los Angeles', 'CA'),\n",
       " 2: ('Justin', 'M', 'Chicago', 'IL'),\n",
       " 3: ('Alice', 'F', 'Houston', 'TX'),\n",
       " 4: ('Bob', 'M', 'Phoenix', 'AZ'),\n",
       " 5: ('Eva', 'F', 'San Diego', 'CA'),\n",
       " 6: ('Mike', 'M', 'Dallas', 'TX')}"
      ]
     },
     "execution_count": 2,
     "metadata": {},
     "output_type": "execute_result"
    }
   ],
   "source": [
    "customers = ['John', 'Mary', 'Justin', 'Alice', 'Bob', 'Eva', 'Mike']\n",
    "\n",
    "customer_details = [\n",
    "    ('John', 'M', 'New York', 'NY'),\n",
    "    ('Mary', 'F', 'Los Angeles', 'CA'),\n",
    "    ('Justin', 'M', 'Chicago', 'IL'),\n",
    "    ('Alice', 'F', 'Houston', 'TX'),\n",
    "    ('Bob', 'M', 'Phoenix', 'AZ'),\n",
    "    ('Eva', 'F', 'San Diego', 'CA'),\n",
    "    ('Mike', 'M', 'Dallas', 'TX')\n",
    "]\n",
    "customer_dict = {i: customer for i, customer in enumerate(customer_details)}\n",
    "\n",
    "customer_dict"
   ]
  },
  {
   "cell_type": "markdown",
   "id": "6c045353bd1abf62",
   "metadata": {
    "collapsed": false
   },
   "source": [
    "## Pets"
   ]
  },
  {
   "cell_type": "code",
   "execution_count": 3,
   "id": "d76169fae6692dd9",
   "metadata": {
    "ExecuteTime": {
     "end_time": "2024-03-06T16:55:01.218314Z",
     "start_time": "2024-03-06T16:55:01.212164Z"
    },
    "collapsed": false
   },
   "outputs": [
    {
     "data": {
      "text/plain": [
       "{0: ('Dog', 'Mammal'),\n",
       " 1: ('Cat', 'Mammal'),\n",
       " 2: ('Rabbit', 'Mammal'),\n",
       " 3: ('Parrot', 'Bird'),\n",
       " 4: ('Fish', 'Fish')}"
      ]
     },
     "execution_count": 3,
     "metadata": {},
     "output_type": "execute_result"
    }
   ],
   "source": [
    "# Pets\n",
    "pet_details = [\n",
    "    ('Dog', 'Mammal'),\n",
    "    ('Cat', 'Mammal'),\n",
    "    ('Rabbit', 'Mammal'),\n",
    "    ('Parrot', 'Bird'),\n",
    "    ('Fish', 'Fish')\n",
    "]\n",
    "pet_dict = {i: pet for i, pet in enumerate(pet_details)}\n",
    "pet_dict"
   ]
  },
  {
   "cell_type": "markdown",
   "id": "ef9acbe66746de4b",
   "metadata": {
    "collapsed": false
   },
   "source": [
    "## Cars"
   ]
  },
  {
   "cell_type": "code",
   "execution_count": 4,
   "id": "247a351dd20e3dff",
   "metadata": {
    "ExecuteTime": {
     "end_time": "2024-03-06T16:55:01.226020Z",
     "start_time": "2024-03-06T16:55:01.218880Z"
    },
    "collapsed": false
   },
   "outputs": [
    {
     "data": {
      "text/plain": [
       "{0: ('Toyota Camry', 'Red'),\n",
       " 1: ('Honda Civic', 'Blue'),\n",
       " 2: ('Ford Focus', 'Red'),\n",
       " 3: ('BMW 3 Series', 'Black'),\n",
       " 4: ('Tesla Model S', 'Red'),\n",
       " 5: ('Chevrolet Bolt EV', 'White'),\n",
       " 6: ('Ford Mustang', 'Yellow'),\n",
       " 7: ('Audi A4', 'Silver'),\n",
       " 8: ('Mercedes-Benz C-Class', 'Grey'),\n",
       " 9: ('Subaru Outback', 'Green'),\n",
       " 10: ('Volkswagen Golf', 'Blue'),\n",
       " 11: ('Porsche 911', 'Black')}"
      ]
     },
     "execution_count": 4,
     "metadata": {},
     "output_type": "execute_result"
    }
   ],
   "source": [
    "# Separate lists for car models and colors\n",
    "\n",
    "car_details = [\n",
    "    ('Toyota Camry', 'Red'),\n",
    "    ('Honda Civic', 'Blue'),\n",
    "    ('Ford Focus', 'Red'),\n",
    "    ('BMW 3 Series', 'Black'),\n",
    "    ('Tesla Model S', 'Red'),\n",
    "    ('Chevrolet Bolt EV', 'White'),\n",
    "    ('Ford Mustang', 'Yellow'),\n",
    "    ('Audi A4', 'Silver'),\n",
    "    ('Mercedes-Benz C-Class', 'Grey'),\n",
    "    ('Subaru Outback', 'Green'),\n",
    "    ('Volkswagen Golf', 'Blue'),\n",
    "    ('Porsche 911', 'Black')\n",
    "]\n",
    "\n",
    "car_dict = {i: car for i, car in enumerate(car_details)}\n",
    "car_dict"
   ]
  },
  {
   "cell_type": "markdown",
   "id": "74f8acc79272b7f1",
   "metadata": {
    "collapsed": false
   },
   "source": [
    "##  Travels"
   ]
  },
  {
   "cell_type": "code",
   "execution_count": 5,
   "id": "fed68df1e81535c5",
   "metadata": {
    "ExecuteTime": {
     "end_time": "2024-03-06T16:55:01.232158Z",
     "start_time": "2024-03-06T16:55:01.227192Z"
    },
    "collapsed": false
   },
   "outputs": [],
   "source": [
    "travels = [\n",
    "    ('John', 'Los Angeles', 'CA', 'New York', 'NY', 2),\n",
    "    ('Alice', 'Houston', 'TX', 'Phoenix', 'AZ', 5),\n",
    "    ('Eva', 'San Diego', 'CA', 'Dallas', 'TX', 1),\n",
    "    ('Mike', 'Dallas', 'TX', 'Chicago', 'IL', 3)\n",
    "]"
   ]
  },
  {
   "cell_type": "markdown",
   "id": "2f1c2b312698c7f5",
   "metadata": {
    "collapsed": false
   },
   "source": [
    "## Friendships, Car ownerships, and Pet ownerships"
   ]
  },
  {
   "cell_type": "code",
   "execution_count": 6,
   "id": "3ba07b7f85501dfd",
   "metadata": {
    "ExecuteTime": {
     "end_time": "2024-03-06T16:55:01.243663Z",
     "start_time": "2024-03-06T16:55:01.232941Z"
    },
    "collapsed": false
   },
   "outputs": [],
   "source": [
    "friendships = [('customer_2', 'customer_1'), ('customer_0', 'customer_1'), ('customer_0', 'customer_2'),\n",
    "               ('customer_3', 'customer_4'), ('customer_4', 'customer_0'), ('customer_5', 'customer_3'),\n",
    "               ('customer_6', 'customer_0'), ('customer_5', 'customer_6'), ('customer_4', 'customer_5'),\n",
    "               ('customer_3', 'customer_1')]\n",
    "car_ownerships = [('customer_1', 'Car_0'), ('customer_2', 'Car_1'), ('customer_0', 'Car_2'), ('customer_3', 'Car_3'),\n",
    "                  ('customer_4', 'Car_4'), ('customer_3', 'Car_0'), ('customer_2', 'Car_3'), ('customer_5', 'Car_5'),\n",
    "                  ('customer_6', 'Car_6'), ('customer_0', 'Car_7'), ('customer_1', 'Car_8'), ('customer_4', 'Car_9'),\n",
    "                  ('customer_3', 'Car_10'), ('customer_2', 'Car_11'), ('customer_5', 'Car_2'), ('customer_6', 'Car_4')]\n",
    "\n",
    "pet_ownerships = [('customer_1', 'Pet_1'), ('customer_2', 'Pet_1'), ('customer_2', 'Pet_0'), ('customer_0', 'Pet_0'),\n",
    "                  ('customer_3', 'Pet_2'), ('customer_4', 'Pet_2'), ('customer_5', 'Pet_3'), ('customer_6', 'Pet_4'),\n",
    "                  ('customer_0', 'Pet_4')]"
   ]
  },
  {
   "cell_type": "markdown",
   "id": "9a42a34f10bc90fe",
   "metadata": {
    "collapsed": false
   },
   "source": [
    "## Creating the Nodes"
   ]
  },
  {
   "cell_type": "code",
   "execution_count": 8,
   "id": "1c05c386c4820dbb",
   "metadata": {
    "ExecuteTime": {
     "end_time": "2024-03-06T16:55:01.257039Z",
     "start_time": "2024-03-06T16:55:01.246002Z"
    },
    "collapsed": false
   },
   "outputs": [],
   "source": [
    "g = nx.DiGraph()\n",
    "\n",
    "for customer_id, details in customer_dict.items():\n",
    "    attributes = {\n",
    "        'c_id': customer_id,\n",
    "        'name': details[0],\n",
    "        'gender': details[1],\n",
    "        'city': details[2],\n",
    "        'state': details[3],\n",
    "    }\n",
    "    name = \"customer_\" + str(customer_id)\n",
    "    g.add_node(name, **attributes)\n",
    "\n",
    "for pet_id, details in pet_dict.items():\n",
    "    dynamic_attribute=f\"Pet_{pet_id}\"\n",
    "    attributes = {\n",
    "        'pet_id': pet_id,\n",
    "        'species': details[0],\n",
    "        'class': details[1],\n",
    "        dynamic_attribute: 1\n",
    "    }\n",
    "    name = \"Pet_\" + str(pet_id)\n",
    "    g.add_node(name, **attributes)\n",
    "\n",
    "for car_id, details in car_dict.items():\n",
    "    dynamic_attribute=f\"Car_{car_id}\"\n",
    "    attributes = {\n",
    "        'car_id': car_id,\n",
    "        'model': details[0],\n",
    "        'color': details[1],\n",
    "        dynamic_attribute: 1\n",
    "    }\n",
    "    name = \"Car_\" + str(car_id)\n",
    "    g.add_node(name, **attributes)\n"
   ]
  },
  {
   "cell_type": "markdown",
   "id": "9617d6e1f43ad7ea",
   "metadata": {
    "collapsed": false
   },
   "source": [
    "## Creating the Edges"
   ]
  },
  {
   "cell_type": "code",
   "execution_count": 9,
   "id": "29f4b3b461d64dfc",
   "metadata": {
    "ExecuteTime": {
     "end_time": "2024-03-06T17:18:54.458084Z",
     "start_time": "2024-03-06T17:18:54.454189Z"
    },
    "collapsed": false
   },
   "outputs": [],
   "source": [
    "for f1, f2 in friendships:\n",
    "    g.add_edge(f1, f2, Friends=1)\n",
    "for owner, car in car_ownerships:\n",
    "    g.add_edge(owner, car, owns_car=1, car_color_id=int(car.split('_')[1]))\n",
    "for owner, pet in pet_ownerships:\n",
    "    g.add_edge(owner, pet, owns_pet=1)\n"
   ]
  },
  {
   "cell_type": "code",
   "execution_count": 14,
   "id": "b9b96d7d6734019e",
   "metadata": {
    "ExecuteTime": {
     "end_time": "2024-03-06T17:34:59.142836Z",
     "start_time": "2024-03-06T17:34:59.115848Z"
    },
    "collapsed": false
   },
   "outputs": [],
   "source": [
    "pr.load_graph(g)\n",
    "\n",
    "pr.settings.verbose = True\n",
    "pr.settings.atom_trace = True\n",
    "\n",
    "pr.add_rule(pr.Rule('popular(x) <-1 popular(y), Friends(x,y)', 'popular_pet_rule'))\n",
    "pr.add_rule(pr.Rule('cool_car(x) <-1 owns_car(x,y),Car_4(y)', 'cool_car_rule'))\n",
    "pr.add_rule(pr.Rule('cool_pet(x)<-1 owns_pet(x,y),Pet_2(y)', 'cool_pet_rule'))\n",
    "pr.add_rule(pr.Rule('trendy(x) <- cool_car(x) , cool_pet(x)', 'trendy_rule'))\n",
    "\n",
    "pr.add_rule(\n",
    "    pr.Rule(\"car_friend(x,y) <- owns_car(x,z), owns_car(y,z) , c_id(x) != c_id(y) \", \"car_friend_rule\",infer_edges=True))\n",
    "pr.add_rule(\n",
    "    pr.Rule(\"same_color_car(x, y) <- owns_car(x, c1) , owns_car(y, c2),  car_color_id(x,c1) == car_color_id(y,c2) , c_id(x) != c_id(y)\",\n",
    "            \"same_car_color_rule\"))\n",
    "\n",
    "#pr.add_fact(pr.Fact(name='popular-fact', component='customer_0', attribute='popular', bound=[1, 1],start_time=0,end_time=20))\n",
    "pr.add_fact(pr.Fact('popular-fact', 'popular(customer_0)', 0, 20))"
   ]
  },
  {
   "cell_type": "code",
   "execution_count": 18,
   "id": "53496c463f89efa4",
   "metadata": {
    "ExecuteTime": {
     "end_time": "2024-03-06T17:35:01.734472Z",
     "start_time": "2024-03-06T17:34:59.471245Z"
    },
    "collapsed": false
   },
   "outputs": [
    {
     "name": "stdout",
     "output_type": "stream",
     "text": [
      "Optimizing rules by moving node clauses ahead of edge clauses\n",
      "Timestep: 0\n"
     ]
    },
    {
     "name": "stdout",
     "output_type": "stream",
     "text": [
      "Timestep: 1\n",
      "Timestep: 2\n",
      "Timestep: 3\n",
      "Timestep: 4\n",
      "Timestep: 5\n",
      "Timestep: 6\n",
      "Timestep: 7\n",
      "Timestep: 8\n",
      "Timestep: 9\n",
      "Timestep: 10\n",
      "Fixed Point iterations: 23\n"
     ]
    }
   ],
   "source": [
    "interpretation = pr.reason(timesteps=10)\n",
    "# pr.save_rule_trace(interpretation)"
   ]
  },
  {
   "cell_type": "code",
   "execution_count": 17,
   "id": "a50b05a88124bddd",
   "metadata": {
    "ExecuteTime": {
     "end_time": "2024-03-06T17:35:04.407063Z",
     "start_time": "2024-03-06T17:35:04.344424Z"
    },
    "collapsed": false
   },
   "outputs": [
    {
     "ename": "AttributeError",
     "evalue": "'Interpretation' object has no attribute 'get_interpretation_dict'",
     "output_type": "error",
     "traceback": [
      "\u001b[0;31m---------------------------------------------------------------------------\u001b[0m",
      "\u001b[0;31mAttributeError\u001b[0m                            Traceback (most recent call last)",
      "\u001b[1;32m/Users/ashbysteward-nolan/Documents/PyReason/pyreason/docs/advanced_graph.ipynb Cell 18\u001b[0m line \u001b[0;36m1\n\u001b[0;32m----> <a href='vscode-notebook-cell:/Users/ashbysteward-nolan/Documents/PyReason/pyreason/docs/advanced_graph.ipynb#X23sZmlsZQ%3D%3D?line=0'>1</a>\u001b[0m interpretations_dict \u001b[39m=\u001b[39m interpretation\u001b[39m.\u001b[39;49mget_interpretation_dict()\n\u001b[1;32m      <a href='vscode-notebook-cell:/Users/ashbysteward-nolan/Documents/PyReason/pyreason/docs/advanced_graph.ipynb#X23sZmlsZQ%3D%3D?line=1'>2</a>\u001b[0m pprint(interpretations_dict)\n\u001b[1;32m      <a href='vscode-notebook-cell:/Users/ashbysteward-nolan/Documents/PyReason/pyreason/docs/advanced_graph.ipynb#X23sZmlsZQ%3D%3D?line=3'>4</a>\u001b[0m df1 \u001b[39m=\u001b[39m pr\u001b[39m.\u001b[39mfilter_and_sort_nodes(interpretation, [\u001b[39m'\u001b[39m\u001b[39mtrendy\u001b[39m\u001b[39m'\u001b[39m, \u001b[39m'\u001b[39m\u001b[39mcool_car\u001b[39m\u001b[39m'\u001b[39m, \u001b[39m'\u001b[39m\u001b[39mcool_pet\u001b[39m\u001b[39m'\u001b[39m, \u001b[39m'\u001b[39m\u001b[39mpopular\u001b[39m\u001b[39m'\u001b[39m])\n",
      "\u001b[0;31mAttributeError\u001b[0m: 'Interpretation' object has no attribute 'get_interpretation_dict'"
     ]
    }
   ],
   "source": [
    "interpretations_dict = interpretation.get_interpretation_dict()\n",
    "pprint(interpretations_dict)\n",
    "\n",
    "df1 = pr.filter_and_sort_nodes(interpretation, ['trendy', 'cool_car', 'cool_pet', 'popular'])\n",
    "df2 = pr.filter_and_sort_edges(interpretation, ['car_friend', 'same_color_car'])\n"
   ]
  },
  {
   "cell_type": "code",
   "execution_count": 60,
   "id": "c694d8d383419288",
   "metadata": {
    "ExecuteTime": {
     "end_time": "2024-03-06T17:35:42.163566Z",
     "start_time": "2024-03-06T17:35:42.124941Z"
    },
    "collapsed": false
   },
   "outputs": [
    {
     "data": {
      "text/plain": [
       "[    component  trendy cool_car    cool_pet popular\n",
       " 0  customer_0  [0, 1]   [0, 1]  [1.0, 1.0]  [0, 1],\n",
       "     component      trendy    cool_car    cool_pet     popular\n",
       " 0  customer_0      [0, 1]      [0, 1]      [0, 1]  [1.0, 1.0]\n",
       " 1  customer_4  [1.0, 1.0]  [1.0, 1.0]  [1.0, 1.0]  [1.0, 1.0]\n",
       " 2  customer_6      [0, 1]  [1.0, 1.0]      [0, 1]  [1.0, 1.0]\n",
       " 3  customer_3      [0, 1]      [0, 1]  [1.0, 1.0]      [0, 1],\n",
       "     component      trendy    cool_car    cool_pet     popular\n",
       " 0  customer_0      [0, 1]      [0, 1]      [0, 1]  [1.0, 1.0]\n",
       " 1  customer_3      [0, 1]      [0, 1]  [1.0, 1.0]  [1.0, 1.0]\n",
       " 2  customer_4  [1.0, 1.0]  [1.0, 1.0]  [1.0, 1.0]  [1.0, 1.0]\n",
       " 3  customer_5      [0, 1]      [0, 1]      [0, 1]  [1.0, 1.0]\n",
       " 4  customer_6      [0, 1]  [1.0, 1.0]      [0, 1]  [1.0, 1.0],\n",
       "     component      trendy    cool_car    cool_pet     popular\n",
       " 0  customer_0      [0, 1]      [0, 1]      [0, 1]  [1.0, 1.0]\n",
       " 1  customer_3      [0, 1]      [0, 1]  [1.0, 1.0]  [1.0, 1.0]\n",
       " 2  customer_4  [1.0, 1.0]  [1.0, 1.0]  [1.0, 1.0]  [1.0, 1.0]\n",
       " 3  customer_5      [0, 1]      [0, 1]      [0, 1]  [1.0, 1.0]\n",
       " 4  customer_6      [0, 1]  [1.0, 1.0]      [0, 1]  [1.0, 1.0],\n",
       "     component      trendy    cool_car    cool_pet     popular\n",
       " 0  customer_0      [0, 1]      [0, 1]      [0, 1]  [1.0, 1.0]\n",
       " 1  customer_3      [0, 1]      [0, 1]  [1.0, 1.0]  [1.0, 1.0]\n",
       " 2  customer_4  [1.0, 1.0]  [1.0, 1.0]  [1.0, 1.0]  [1.0, 1.0]\n",
       " 3  customer_5      [0, 1]      [0, 1]      [0, 1]  [1.0, 1.0]\n",
       " 4  customer_6      [0, 1]  [1.0, 1.0]      [0, 1]  [1.0, 1.0],\n",
       "     component      trendy    cool_car    cool_pet     popular\n",
       " 0  customer_0      [0, 1]      [0, 1]      [0, 1]  [1.0, 1.0]\n",
       " 1  customer_3      [0, 1]      [0, 1]  [1.0, 1.0]  [1.0, 1.0]\n",
       " 2  customer_4  [1.0, 1.0]  [1.0, 1.0]  [1.0, 1.0]  [1.0, 1.0]\n",
       " 3  customer_5      [0, 1]      [0, 1]      [0, 1]  [1.0, 1.0]\n",
       " 4  customer_6      [0, 1]  [1.0, 1.0]      [0, 1]  [1.0, 1.0],\n",
       "     component      trendy    cool_car    cool_pet     popular\n",
       " 0  customer_0      [0, 1]      [0, 1]      [0, 1]  [1.0, 1.0]\n",
       " 1  customer_3      [0, 1]      [0, 1]  [1.0, 1.0]  [1.0, 1.0]\n",
       " 2  customer_4  [1.0, 1.0]  [1.0, 1.0]  [1.0, 1.0]  [1.0, 1.0]\n",
       " 3  customer_5      [0, 1]      [0, 1]      [0, 1]  [1.0, 1.0]\n",
       " 4  customer_6      [0, 1]  [1.0, 1.0]      [0, 1]  [1.0, 1.0],\n",
       "     component      trendy    cool_car    cool_pet     popular\n",
       " 0  customer_0      [0, 1]      [0, 1]      [0, 1]  [1.0, 1.0]\n",
       " 1  customer_3      [0, 1]      [0, 1]  [1.0, 1.0]  [1.0, 1.0]\n",
       " 2  customer_4  [1.0, 1.0]  [1.0, 1.0]  [1.0, 1.0]  [1.0, 1.0]\n",
       " 3  customer_5      [0, 1]      [0, 1]      [0, 1]  [1.0, 1.0]\n",
       " 4  customer_6      [0, 1]  [1.0, 1.0]      [0, 1]  [1.0, 1.0],\n",
       "     component      trendy    cool_car    cool_pet     popular\n",
       " 0  customer_0      [0, 1]      [0, 1]      [0, 1]  [1.0, 1.0]\n",
       " 1  customer_3      [0, 1]      [0, 1]  [1.0, 1.0]  [1.0, 1.0]\n",
       " 2  customer_4  [1.0, 1.0]  [1.0, 1.0]  [1.0, 1.0]  [1.0, 1.0]\n",
       " 3  customer_5      [0, 1]      [0, 1]      [0, 1]  [1.0, 1.0]\n",
       " 4  customer_6      [0, 1]  [1.0, 1.0]      [0, 1]  [1.0, 1.0],\n",
       "     component      trendy    cool_car    cool_pet     popular\n",
       " 0  customer_0      [0, 1]      [0, 1]      [0, 1]  [1.0, 1.0]\n",
       " 1  customer_3      [0, 1]      [0, 1]  [1.0, 1.0]  [1.0, 1.0]\n",
       " 2  customer_4  [1.0, 1.0]  [1.0, 1.0]  [1.0, 1.0]  [1.0, 1.0]\n",
       " 3  customer_5      [0, 1]      [0, 1]      [0, 1]  [1.0, 1.0]\n",
       " 4  customer_6      [0, 1]  [1.0, 1.0]      [0, 1]  [1.0, 1.0],\n",
       "     component      trendy    cool_car    cool_pet     popular\n",
       " 0  customer_0      [0, 1]      [0, 1]      [0, 1]  [1.0, 1.0]\n",
       " 1  customer_3      [0, 1]      [0, 1]  [1.0, 1.0]  [1.0, 1.0]\n",
       " 2  customer_4  [1.0, 1.0]  [1.0, 1.0]  [1.0, 1.0]  [1.0, 1.0]\n",
       " 3  customer_5      [0, 1]      [0, 1]      [0, 1]  [1.0, 1.0]\n",
       " 4  customer_6      [0, 1]  [1.0, 1.0]      [0, 1]  [1.0, 1.0]]"
      ]
     },
     "execution_count": 60,
     "metadata": {},
     "output_type": "execute_result"
    }
   ],
   "source": [
    "df1"
   ]
  },
  {
   "cell_type": "code",
   "execution_count": 56,
   "id": "8a5ec736f5b6e354",
   "metadata": {
    "ExecuteTime": {
     "end_time": "2024-03-06T17:22:44.809373Z",
     "start_time": "2024-03-06T17:22:44.738073Z"
    },
    "collapsed": false
   },
   "outputs": [
    {
     "data": {
      "text/plain": [
       "[                   component  car_friend same_color_car\n",
       " 0   (customer_2, customer_3)  [1.0, 1.0]     [1.0, 1.0]\n",
       " 1   (customer_2, customer_2)  [1.0, 1.0]         [0, 1]\n",
       " 2   (customer_3, customer_2)  [1.0, 1.0]     [1.0, 1.0]\n",
       " 3   (customer_3, customer_3)  [1.0, 1.0]         [0, 1]\n",
       " 4   (customer_4, customer_6)  [1.0, 1.0]     [1.0, 1.0]\n",
       " 5   (customer_4, customer_4)  [1.0, 1.0]         [0, 1]\n",
       " 6   (customer_6, customer_4)  [1.0, 1.0]     [1.0, 1.0]\n",
       " 7   (customer_6, customer_6)  [1.0, 1.0]         [0, 1]\n",
       " 8   (customer_2, customer_4)  [1.0, 1.0]         [0, 1]\n",
       " 9   (customer_2, customer_5)  [1.0, 1.0]         [0, 1]\n",
       " 10  (customer_2, customer_6)  [1.0, 1.0]         [0, 1]\n",
       " 11  (customer_3, customer_4)  [1.0, 1.0]         [0, 1]\n",
       " 12  (customer_3, customer_5)  [1.0, 1.0]         [0, 1]\n",
       " 13  (customer_3, customer_6)  [1.0, 1.0]         [0, 1]\n",
       " 14  (customer_4, customer_2)  [1.0, 1.0]         [0, 1]\n",
       " 15  (customer_4, customer_3)  [1.0, 1.0]         [0, 1]\n",
       " 16  (customer_4, customer_5)  [1.0, 1.0]         [0, 1]\n",
       " 17  (customer_5, customer_2)  [1.0, 1.0]         [0, 1]\n",
       " 18  (customer_5, customer_3)  [1.0, 1.0]         [0, 1]\n",
       " 19  (customer_5, customer_4)  [1.0, 1.0]         [0, 1]\n",
       " 20  (customer_5, customer_5)  [1.0, 1.0]         [0, 1]\n",
       " 21  (customer_5, customer_6)  [1.0, 1.0]         [0, 1]\n",
       " 22  (customer_6, customer_2)  [1.0, 1.0]         [0, 1]\n",
       " 23  (customer_6, customer_3)  [1.0, 1.0]         [0, 1]\n",
       " 24  (customer_6, customer_5)  [1.0, 1.0]         [0, 1],\n",
       "                    component  car_friend same_color_car\n",
       " 0   (customer_2, customer_3)  [1.0, 1.0]     [1.0, 1.0]\n",
       " 1   (customer_2, customer_2)  [1.0, 1.0]         [0, 1]\n",
       " 2   (customer_3, customer_2)  [1.0, 1.0]     [1.0, 1.0]\n",
       " 3   (customer_3, customer_3)  [1.0, 1.0]         [0, 1]\n",
       " 4   (customer_4, customer_6)  [1.0, 1.0]     [1.0, 1.0]\n",
       " 5   (customer_4, customer_4)  [1.0, 1.0]         [0, 1]\n",
       " 6   (customer_6, customer_4)  [1.0, 1.0]     [1.0, 1.0]\n",
       " 7   (customer_6, customer_6)  [1.0, 1.0]         [0, 1]\n",
       " 8   (customer_2, customer_4)  [1.0, 1.0]         [0, 1]\n",
       " 9   (customer_2, customer_5)  [1.0, 1.0]         [0, 1]\n",
       " 10  (customer_2, customer_6)  [1.0, 1.0]         [0, 1]\n",
       " 11  (customer_3, customer_4)  [1.0, 1.0]         [0, 1]\n",
       " 12  (customer_3, customer_5)  [1.0, 1.0]         [0, 1]\n",
       " 13  (customer_3, customer_6)  [1.0, 1.0]         [0, 1]\n",
       " 14  (customer_4, customer_2)  [1.0, 1.0]         [0, 1]\n",
       " 15  (customer_4, customer_3)  [1.0, 1.0]         [0, 1]\n",
       " 16  (customer_4, customer_5)  [1.0, 1.0]         [0, 1]\n",
       " 17  (customer_5, customer_2)  [1.0, 1.0]         [0, 1]\n",
       " 18  (customer_5, customer_3)  [1.0, 1.0]         [0, 1]\n",
       " 19  (customer_5, customer_4)  [1.0, 1.0]         [0, 1]\n",
       " 20  (customer_5, customer_5)  [1.0, 1.0]         [0, 1]\n",
       " 21  (customer_5, customer_6)  [1.0, 1.0]         [0, 1]\n",
       " 22  (customer_6, customer_2)  [1.0, 1.0]         [0, 1]\n",
       " 23  (customer_6, customer_3)  [1.0, 1.0]         [0, 1]\n",
       " 24  (customer_6, customer_5)  [1.0, 1.0]         [0, 1],\n",
       "                    component  car_friend same_color_car\n",
       " 0   (customer_2, customer_3)  [1.0, 1.0]     [1.0, 1.0]\n",
       " 1   (customer_2, customer_2)  [1.0, 1.0]         [0, 1]\n",
       " 2   (customer_3, customer_2)  [1.0, 1.0]     [1.0, 1.0]\n",
       " 3   (customer_3, customer_3)  [1.0, 1.0]         [0, 1]\n",
       " 4   (customer_4, customer_6)  [1.0, 1.0]     [1.0, 1.0]\n",
       " 5   (customer_4, customer_4)  [1.0, 1.0]         [0, 1]\n",
       " 6   (customer_6, customer_4)  [1.0, 1.0]     [1.0, 1.0]\n",
       " 7   (customer_6, customer_6)  [1.0, 1.0]         [0, 1]\n",
       " 8   (customer_2, customer_4)  [1.0, 1.0]         [0, 1]\n",
       " 9   (customer_2, customer_5)  [1.0, 1.0]         [0, 1]\n",
       " 10  (customer_2, customer_6)  [1.0, 1.0]         [0, 1]\n",
       " 11  (customer_3, customer_4)  [1.0, 1.0]         [0, 1]\n",
       " 12  (customer_3, customer_5)  [1.0, 1.0]         [0, 1]\n",
       " 13  (customer_3, customer_6)  [1.0, 1.0]         [0, 1]\n",
       " 14  (customer_4, customer_2)  [1.0, 1.0]         [0, 1]\n",
       " 15  (customer_4, customer_3)  [1.0, 1.0]         [0, 1]\n",
       " 16  (customer_4, customer_5)  [1.0, 1.0]         [0, 1]\n",
       " 17  (customer_5, customer_2)  [1.0, 1.0]         [0, 1]\n",
       " 18  (customer_5, customer_3)  [1.0, 1.0]         [0, 1]\n",
       " 19  (customer_5, customer_4)  [1.0, 1.0]         [0, 1]\n",
       " 20  (customer_5, customer_5)  [1.0, 1.0]         [0, 1]\n",
       " 21  (customer_5, customer_6)  [1.0, 1.0]         [0, 1]\n",
       " 22  (customer_6, customer_2)  [1.0, 1.0]         [0, 1]\n",
       " 23  (customer_6, customer_3)  [1.0, 1.0]         [0, 1]\n",
       " 24  (customer_6, customer_5)  [1.0, 1.0]         [0, 1],\n",
       "                    component  car_friend same_color_car\n",
       " 0   (customer_2, customer_3)  [1.0, 1.0]     [1.0, 1.0]\n",
       " 1   (customer_2, customer_2)  [1.0, 1.0]         [0, 1]\n",
       " 2   (customer_3, customer_2)  [1.0, 1.0]     [1.0, 1.0]\n",
       " 3   (customer_3, customer_3)  [1.0, 1.0]         [0, 1]\n",
       " 4   (customer_4, customer_6)  [1.0, 1.0]     [1.0, 1.0]\n",
       " 5   (customer_4, customer_4)  [1.0, 1.0]         [0, 1]\n",
       " 6   (customer_6, customer_4)  [1.0, 1.0]     [1.0, 1.0]\n",
       " 7   (customer_6, customer_6)  [1.0, 1.0]         [0, 1]\n",
       " 8   (customer_2, customer_4)  [1.0, 1.0]         [0, 1]\n",
       " 9   (customer_2, customer_5)  [1.0, 1.0]         [0, 1]\n",
       " 10  (customer_2, customer_6)  [1.0, 1.0]         [0, 1]\n",
       " 11  (customer_3, customer_4)  [1.0, 1.0]         [0, 1]\n",
       " 12  (customer_3, customer_5)  [1.0, 1.0]         [0, 1]\n",
       " 13  (customer_3, customer_6)  [1.0, 1.0]         [0, 1]\n",
       " 14  (customer_4, customer_2)  [1.0, 1.0]         [0, 1]\n",
       " 15  (customer_4, customer_3)  [1.0, 1.0]         [0, 1]\n",
       " 16  (customer_4, customer_5)  [1.0, 1.0]         [0, 1]\n",
       " 17  (customer_5, customer_2)  [1.0, 1.0]         [0, 1]\n",
       " 18  (customer_5, customer_3)  [1.0, 1.0]         [0, 1]\n",
       " 19  (customer_5, customer_4)  [1.0, 1.0]         [0, 1]\n",
       " 20  (customer_5, customer_5)  [1.0, 1.0]         [0, 1]\n",
       " 21  (customer_5, customer_6)  [1.0, 1.0]         [0, 1]\n",
       " 22  (customer_6, customer_2)  [1.0, 1.0]         [0, 1]\n",
       " 23  (customer_6, customer_3)  [1.0, 1.0]         [0, 1]\n",
       " 24  (customer_6, customer_5)  [1.0, 1.0]         [0, 1],\n",
       "                    component  car_friend same_color_car\n",
       " 0   (customer_2, customer_3)  [1.0, 1.0]     [1.0, 1.0]\n",
       " 1   (customer_2, customer_2)  [1.0, 1.0]         [0, 1]\n",
       " 2   (customer_3, customer_2)  [1.0, 1.0]     [1.0, 1.0]\n",
       " 3   (customer_3, customer_3)  [1.0, 1.0]         [0, 1]\n",
       " 4   (customer_4, customer_6)  [1.0, 1.0]     [1.0, 1.0]\n",
       " 5   (customer_4, customer_4)  [1.0, 1.0]         [0, 1]\n",
       " 6   (customer_6, customer_4)  [1.0, 1.0]     [1.0, 1.0]\n",
       " 7   (customer_6, customer_6)  [1.0, 1.0]         [0, 1]\n",
       " 8   (customer_2, customer_4)  [1.0, 1.0]         [0, 1]\n",
       " 9   (customer_2, customer_5)  [1.0, 1.0]         [0, 1]\n",
       " 10  (customer_2, customer_6)  [1.0, 1.0]         [0, 1]\n",
       " 11  (customer_3, customer_4)  [1.0, 1.0]         [0, 1]\n",
       " 12  (customer_3, customer_5)  [1.0, 1.0]         [0, 1]\n",
       " 13  (customer_3, customer_6)  [1.0, 1.0]         [0, 1]\n",
       " 14  (customer_4, customer_2)  [1.0, 1.0]         [0, 1]\n",
       " 15  (customer_4, customer_3)  [1.0, 1.0]         [0, 1]\n",
       " 16  (customer_4, customer_5)  [1.0, 1.0]         [0, 1]\n",
       " 17  (customer_5, customer_2)  [1.0, 1.0]         [0, 1]\n",
       " 18  (customer_5, customer_3)  [1.0, 1.0]         [0, 1]\n",
       " 19  (customer_5, customer_4)  [1.0, 1.0]         [0, 1]\n",
       " 20  (customer_5, customer_5)  [1.0, 1.0]         [0, 1]\n",
       " 21  (customer_5, customer_6)  [1.0, 1.0]         [0, 1]\n",
       " 22  (customer_6, customer_2)  [1.0, 1.0]         [0, 1]\n",
       " 23  (customer_6, customer_3)  [1.0, 1.0]         [0, 1]\n",
       " 24  (customer_6, customer_5)  [1.0, 1.0]         [0, 1],\n",
       "                    component  car_friend same_color_car\n",
       " 0   (customer_2, customer_3)  [1.0, 1.0]     [1.0, 1.0]\n",
       " 1   (customer_2, customer_2)  [1.0, 1.0]         [0, 1]\n",
       " 2   (customer_3, customer_2)  [1.0, 1.0]     [1.0, 1.0]\n",
       " 3   (customer_3, customer_3)  [1.0, 1.0]         [0, 1]\n",
       " 4   (customer_4, customer_6)  [1.0, 1.0]     [1.0, 1.0]\n",
       " 5   (customer_4, customer_4)  [1.0, 1.0]         [0, 1]\n",
       " 6   (customer_6, customer_4)  [1.0, 1.0]     [1.0, 1.0]\n",
       " 7   (customer_6, customer_6)  [1.0, 1.0]         [0, 1]\n",
       " 8   (customer_2, customer_4)  [1.0, 1.0]         [0, 1]\n",
       " 9   (customer_2, customer_5)  [1.0, 1.0]         [0, 1]\n",
       " 10  (customer_2, customer_6)  [1.0, 1.0]         [0, 1]\n",
       " 11  (customer_3, customer_4)  [1.0, 1.0]         [0, 1]\n",
       " 12  (customer_3, customer_5)  [1.0, 1.0]         [0, 1]\n",
       " 13  (customer_3, customer_6)  [1.0, 1.0]         [0, 1]\n",
       " 14  (customer_4, customer_2)  [1.0, 1.0]         [0, 1]\n",
       " 15  (customer_4, customer_3)  [1.0, 1.0]         [0, 1]\n",
       " 16  (customer_4, customer_5)  [1.0, 1.0]         [0, 1]\n",
       " 17  (customer_5, customer_2)  [1.0, 1.0]         [0, 1]\n",
       " 18  (customer_5, customer_3)  [1.0, 1.0]         [0, 1]\n",
       " 19  (customer_5, customer_4)  [1.0, 1.0]         [0, 1]\n",
       " 20  (customer_5, customer_5)  [1.0, 1.0]         [0, 1]\n",
       " 21  (customer_5, customer_6)  [1.0, 1.0]         [0, 1]\n",
       " 22  (customer_6, customer_2)  [1.0, 1.0]         [0, 1]\n",
       " 23  (customer_6, customer_3)  [1.0, 1.0]         [0, 1]\n",
       " 24  (customer_6, customer_5)  [1.0, 1.0]         [0, 1],\n",
       "                    component  car_friend same_color_car\n",
       " 0   (customer_2, customer_3)  [1.0, 1.0]     [1.0, 1.0]\n",
       " 1   (customer_2, customer_2)  [1.0, 1.0]         [0, 1]\n",
       " 2   (customer_3, customer_2)  [1.0, 1.0]     [1.0, 1.0]\n",
       " 3   (customer_3, customer_3)  [1.0, 1.0]         [0, 1]\n",
       " 4   (customer_4, customer_6)  [1.0, 1.0]     [1.0, 1.0]\n",
       " 5   (customer_4, customer_4)  [1.0, 1.0]         [0, 1]\n",
       " 6   (customer_6, customer_4)  [1.0, 1.0]     [1.0, 1.0]\n",
       " 7   (customer_6, customer_6)  [1.0, 1.0]         [0, 1]\n",
       " 8   (customer_2, customer_4)  [1.0, 1.0]         [0, 1]\n",
       " 9   (customer_2, customer_5)  [1.0, 1.0]         [0, 1]\n",
       " 10  (customer_2, customer_6)  [1.0, 1.0]         [0, 1]\n",
       " 11  (customer_3, customer_4)  [1.0, 1.0]         [0, 1]\n",
       " 12  (customer_3, customer_5)  [1.0, 1.0]         [0, 1]\n",
       " 13  (customer_3, customer_6)  [1.0, 1.0]         [0, 1]\n",
       " 14  (customer_4, customer_2)  [1.0, 1.0]         [0, 1]\n",
       " 15  (customer_4, customer_3)  [1.0, 1.0]         [0, 1]\n",
       " 16  (customer_4, customer_5)  [1.0, 1.0]         [0, 1]\n",
       " 17  (customer_5, customer_2)  [1.0, 1.0]         [0, 1]\n",
       " 18  (customer_5, customer_3)  [1.0, 1.0]         [0, 1]\n",
       " 19  (customer_5, customer_4)  [1.0, 1.0]         [0, 1]\n",
       " 20  (customer_5, customer_5)  [1.0, 1.0]         [0, 1]\n",
       " 21  (customer_5, customer_6)  [1.0, 1.0]         [0, 1]\n",
       " 22  (customer_6, customer_2)  [1.0, 1.0]         [0, 1]\n",
       " 23  (customer_6, customer_3)  [1.0, 1.0]         [0, 1]\n",
       " 24  (customer_6, customer_5)  [1.0, 1.0]         [0, 1],\n",
       "                    component  car_friend same_color_car\n",
       " 0   (customer_2, customer_3)  [1.0, 1.0]     [1.0, 1.0]\n",
       " 1   (customer_2, customer_2)  [1.0, 1.0]         [0, 1]\n",
       " 2   (customer_3, customer_2)  [1.0, 1.0]     [1.0, 1.0]\n",
       " 3   (customer_3, customer_3)  [1.0, 1.0]         [0, 1]\n",
       " 4   (customer_4, customer_6)  [1.0, 1.0]     [1.0, 1.0]\n",
       " 5   (customer_4, customer_4)  [1.0, 1.0]         [0, 1]\n",
       " 6   (customer_6, customer_4)  [1.0, 1.0]     [1.0, 1.0]\n",
       " 7   (customer_6, customer_6)  [1.0, 1.0]         [0, 1]\n",
       " 8   (customer_2, customer_4)  [1.0, 1.0]         [0, 1]\n",
       " 9   (customer_2, customer_5)  [1.0, 1.0]         [0, 1]\n",
       " 10  (customer_2, customer_6)  [1.0, 1.0]         [0, 1]\n",
       " 11  (customer_3, customer_4)  [1.0, 1.0]         [0, 1]\n",
       " 12  (customer_3, customer_5)  [1.0, 1.0]         [0, 1]\n",
       " 13  (customer_3, customer_6)  [1.0, 1.0]         [0, 1]\n",
       " 14  (customer_4, customer_2)  [1.0, 1.0]         [0, 1]\n",
       " 15  (customer_4, customer_3)  [1.0, 1.0]         [0, 1]\n",
       " 16  (customer_4, customer_5)  [1.0, 1.0]         [0, 1]\n",
       " 17  (customer_5, customer_2)  [1.0, 1.0]         [0, 1]\n",
       " 18  (customer_5, customer_3)  [1.0, 1.0]         [0, 1]\n",
       " 19  (customer_5, customer_4)  [1.0, 1.0]         [0, 1]\n",
       " 20  (customer_5, customer_5)  [1.0, 1.0]         [0, 1]\n",
       " 21  (customer_5, customer_6)  [1.0, 1.0]         [0, 1]\n",
       " 22  (customer_6, customer_2)  [1.0, 1.0]         [0, 1]\n",
       " 23  (customer_6, customer_3)  [1.0, 1.0]         [0, 1]\n",
       " 24  (customer_6, customer_5)  [1.0, 1.0]         [0, 1],\n",
       "                    component  car_friend same_color_car\n",
       " 0   (customer_2, customer_3)  [1.0, 1.0]     [1.0, 1.0]\n",
       " 1   (customer_2, customer_2)  [1.0, 1.0]         [0, 1]\n",
       " 2   (customer_3, customer_2)  [1.0, 1.0]     [1.0, 1.0]\n",
       " 3   (customer_3, customer_3)  [1.0, 1.0]         [0, 1]\n",
       " 4   (customer_4, customer_6)  [1.0, 1.0]     [1.0, 1.0]\n",
       " 5   (customer_4, customer_4)  [1.0, 1.0]         [0, 1]\n",
       " 6   (customer_6, customer_4)  [1.0, 1.0]     [1.0, 1.0]\n",
       " 7   (customer_6, customer_6)  [1.0, 1.0]         [0, 1]\n",
       " 8   (customer_2, customer_4)  [1.0, 1.0]         [0, 1]\n",
       " 9   (customer_2, customer_5)  [1.0, 1.0]         [0, 1]\n",
       " 10  (customer_2, customer_6)  [1.0, 1.0]         [0, 1]\n",
       " 11  (customer_3, customer_4)  [1.0, 1.0]         [0, 1]\n",
       " 12  (customer_3, customer_5)  [1.0, 1.0]         [0, 1]\n",
       " 13  (customer_3, customer_6)  [1.0, 1.0]         [0, 1]\n",
       " 14  (customer_4, customer_2)  [1.0, 1.0]         [0, 1]\n",
       " 15  (customer_4, customer_3)  [1.0, 1.0]         [0, 1]\n",
       " 16  (customer_4, customer_5)  [1.0, 1.0]         [0, 1]\n",
       " 17  (customer_5, customer_2)  [1.0, 1.0]         [0, 1]\n",
       " 18  (customer_5, customer_3)  [1.0, 1.0]         [0, 1]\n",
       " 19  (customer_5, customer_4)  [1.0, 1.0]         [0, 1]\n",
       " 20  (customer_5, customer_5)  [1.0, 1.0]         [0, 1]\n",
       " 21  (customer_5, customer_6)  [1.0, 1.0]         [0, 1]\n",
       " 22  (customer_6, customer_2)  [1.0, 1.0]         [0, 1]\n",
       " 23  (customer_6, customer_3)  [1.0, 1.0]         [0, 1]\n",
       " 24  (customer_6, customer_5)  [1.0, 1.0]         [0, 1],\n",
       "                    component  car_friend same_color_car\n",
       " 0   (customer_2, customer_3)  [1.0, 1.0]     [1.0, 1.0]\n",
       " 1   (customer_2, customer_2)  [1.0, 1.0]         [0, 1]\n",
       " 2   (customer_3, customer_2)  [1.0, 1.0]     [1.0, 1.0]\n",
       " 3   (customer_3, customer_3)  [1.0, 1.0]         [0, 1]\n",
       " 4   (customer_4, customer_6)  [1.0, 1.0]     [1.0, 1.0]\n",
       " 5   (customer_4, customer_4)  [1.0, 1.0]         [0, 1]\n",
       " 6   (customer_6, customer_4)  [1.0, 1.0]     [1.0, 1.0]\n",
       " 7   (customer_6, customer_6)  [1.0, 1.0]         [0, 1]\n",
       " 8   (customer_2, customer_4)  [1.0, 1.0]         [0, 1]\n",
       " 9   (customer_2, customer_5)  [1.0, 1.0]         [0, 1]\n",
       " 10  (customer_2, customer_6)  [1.0, 1.0]         [0, 1]\n",
       " 11  (customer_3, customer_4)  [1.0, 1.0]         [0, 1]\n",
       " 12  (customer_3, customer_5)  [1.0, 1.0]         [0, 1]\n",
       " 13  (customer_3, customer_6)  [1.0, 1.0]         [0, 1]\n",
       " 14  (customer_4, customer_2)  [1.0, 1.0]         [0, 1]\n",
       " 15  (customer_4, customer_3)  [1.0, 1.0]         [0, 1]\n",
       " 16  (customer_4, customer_5)  [1.0, 1.0]         [0, 1]\n",
       " 17  (customer_5, customer_2)  [1.0, 1.0]         [0, 1]\n",
       " 18  (customer_5, customer_3)  [1.0, 1.0]         [0, 1]\n",
       " 19  (customer_5, customer_4)  [1.0, 1.0]         [0, 1]\n",
       " 20  (customer_5, customer_5)  [1.0, 1.0]         [0, 1]\n",
       " 21  (customer_5, customer_6)  [1.0, 1.0]         [0, 1]\n",
       " 22  (customer_6, customer_2)  [1.0, 1.0]         [0, 1]\n",
       " 23  (customer_6, customer_3)  [1.0, 1.0]         [0, 1]\n",
       " 24  (customer_6, customer_5)  [1.0, 1.0]         [0, 1],\n",
       "                    component  car_friend same_color_car\n",
       " 0   (customer_2, customer_3)  [1.0, 1.0]     [1.0, 1.0]\n",
       " 1   (customer_2, customer_2)  [1.0, 1.0]         [0, 1]\n",
       " 2   (customer_3, customer_2)  [1.0, 1.0]     [1.0, 1.0]\n",
       " 3   (customer_3, customer_3)  [1.0, 1.0]         [0, 1]\n",
       " 4   (customer_4, customer_6)  [1.0, 1.0]     [1.0, 1.0]\n",
       " 5   (customer_4, customer_4)  [1.0, 1.0]         [0, 1]\n",
       " 6   (customer_6, customer_4)  [1.0, 1.0]     [1.0, 1.0]\n",
       " 7   (customer_6, customer_6)  [1.0, 1.0]         [0, 1]\n",
       " 8   (customer_2, customer_4)  [1.0, 1.0]         [0, 1]\n",
       " 9   (customer_2, customer_5)  [1.0, 1.0]         [0, 1]\n",
       " 10  (customer_2, customer_6)  [1.0, 1.0]         [0, 1]\n",
       " 11  (customer_3, customer_4)  [1.0, 1.0]         [0, 1]\n",
       " 12  (customer_3, customer_5)  [1.0, 1.0]         [0, 1]\n",
       " 13  (customer_3, customer_6)  [1.0, 1.0]         [0, 1]\n",
       " 14  (customer_4, customer_2)  [1.0, 1.0]         [0, 1]\n",
       " 15  (customer_4, customer_3)  [1.0, 1.0]         [0, 1]\n",
       " 16  (customer_4, customer_5)  [1.0, 1.0]         [0, 1]\n",
       " 17  (customer_5, customer_2)  [1.0, 1.0]         [0, 1]\n",
       " 18  (customer_5, customer_3)  [1.0, 1.0]         [0, 1]\n",
       " 19  (customer_5, customer_4)  [1.0, 1.0]         [0, 1]\n",
       " 20  (customer_5, customer_5)  [1.0, 1.0]         [0, 1]\n",
       " 21  (customer_5, customer_6)  [1.0, 1.0]         [0, 1]\n",
       " 22  (customer_6, customer_2)  [1.0, 1.0]         [0, 1]\n",
       " 23  (customer_6, customer_3)  [1.0, 1.0]         [0, 1]\n",
       " 24  (customer_6, customer_5)  [1.0, 1.0]         [0, 1]]"
      ]
     },
     "execution_count": 56,
     "metadata": {},
     "output_type": "execute_result"
    }
   ],
   "source": [
    "df2"
   ]
  },
  {
   "cell_type": "code",
   "execution_count": 13,
   "id": "76fc9b15eb441ebe",
   "metadata": {
    "ExecuteTime": {
     "end_time": "2024-03-06T16:55:09.117129Z",
     "start_time": "2024-03-06T16:55:09.115313Z"
    },
    "collapsed": false
   },
   "outputs": [],
   "source": []
  }
 ],
 "metadata": {
  "kernelspec": {
   "display_name": "Python 3",
   "language": "python",
   "name": "python3"
  },
  "language_info": {
   "codemirror_mode": {
    "name": "ipython",
    "version": 2
   },
   "file_extension": ".py",
   "mimetype": "text/x-python",
   "name": "python",
   "nbconvert_exporter": "python",
   "pygments_lexer": "ipython2",
   "version": "3.9.6"
  }
 },
 "nbformat": 4,
 "nbformat_minor": 5
}
